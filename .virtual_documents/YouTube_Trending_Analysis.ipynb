





import pandas as pd
import numpy as np
import matplotlib.pyplot as plt
import seaborn as sns
import os
import json
import warnings
warnings.filterwarnings('ignore')





us_df = pd.read_csv('data/USvideos.csv')
in_df = pd.read_csv('data/INvideos.csv')

print('USA Dataset: ', us_df.shape)
print('India Dataset: ', in_df.shape)

us_df.head()


print('US Data Info:')
print(us_df.info())

print('\nIndia Data info:')
print(in_df.info())


print('Missing nul values in US data:\n', us_df.isnull().sum())
print('\nMissing Null values in India data:\n', in_df.isnull().sum())








us_df.drop_duplicates(subset=['video_id','trending_date'], inplace=True)
in_df.drop_duplicates(subset=['video_id','trending_date'], inplace=True)


#check again for missing values
print('Missing values: ', us_df.isnull().sum())
print('\nMissing values:', in_df.isnull().sum())

us_df['description'].fillna('No description', inplace = True)
in_df['description'].fillna('No description', inplace = True)


us_df['trending_date'] = pd.to_datetime(us_df['trending_date'], format='%y.%d.%m')
in_df['trending_date'] = pd.to_datetime(in_df['trending_date'], format='%y.%d.%m')

us_df['publish_time'] = pd.to_datetime(us_df['publish_time'])
in_df['publish_time'] = pd.to_datetime(in_df['publish_time'])

us_df['publish_date'] = us_df['publish_time'].dt.date
in_df['publish_date'] = in_df['publish_time'].dt.date


print("US duplicated after cleaning: ", us_df.duplicated().sum())
print("India duplicated after cleaning: ", in_df.duplicated().sum())





us_trend_counts = us_df['trending_date'].value_counts().sort_index()
in_trend_counts = in_df['trending_date'].value_counts().sort_index()

# plotting
plt.figure(figsize=(14,6))
plt.plot(us_trend_counts.index, us_trend_counts.values, label='US', marker='o')
plt.plot(in_trend_counts.index, in_trend_counts.values, label='INDIA', marker='o')
plt.title("Number of Trenging video over time")
plt.xlabel('Trending date')
plt.ylabel('Number of trending video')
plt.legend()
plt.grid(True)
plt.tight_layout()
plt.show()





# Category mapping from JSON
with open('data/US_category_id.json', 'r') as f:
    categories_data = json.load(f)

category_mapping = {}
for item in categories_data['items']:
    category_mapping[int(item['id'])] = item['snippet']['title']

# Apply mapping
us_df['category_name'] = us_df['category_id'].map(category_mapping)
in_df['category_name'] = in_df['category_id'].map(category_mapping)

# Plot
top_us_categories = us_df['category_name'].value_counts().head(10)
top_in_categories = in_df['category_name'].value_counts().head(10)

fig, axes = plt.subplots(1, 2, figsize=(16, 6))
sns.barplot(y=top_us_categories.index, x=top_us_categories.values, ax=axes[0], palette='Blues_d')
axes[0].set_title("🇺🇸 Top 10 US Video Categories")
axes[0].set_xlabel("Count")
axes[0].set_ylabel("Category")

sns.barplot(y=top_in_categories.index, x=top_in_categories.values, ax=axes[1], palette='Greens_d')
axes[1].set_title("🇮🇳 Top 10 India Video Categories")
axes[1].set_xlabel("Count")
axes[1].set_ylabel("Category")

plt.tight_layout()
plt.show()






top_us_channels = us_df['channel_title'].value_counts().head(10)
top_in_channels = in_df['channel_title'].value_counts().head(10)

fig, axes = plt.subplots(1, 2, figsize=(16, 6))
sns.barplot(y=top_us_channels.index, x=top_us_channels.values, ax=axes[0], palette='mako')
axes[0].set_title("Top US Channels by Trending Videos")
axes[0].set_xlabel("Count")
axes[0].set_ylabel("Channel")

sns.barplot(y=top_in_channels.index, x=top_in_channels.values, ax=axes[1], palette='rocket')
axes[1].set_title("Top India Channels by Trending Videos")
axes[1].set_xlabel("Count")
axes[1].set_ylabel("Channel")

plt.tight_layout()
plt.show()






engagement_metrics = pd.DataFrame({
    'Country': ['US','India'],
    'Median Likes':[us_df['likes'].median(), in_df['likes'].median()],
    'Median Dislikes': [us_df['dislikes'].median(), us_df['dislikes'].median()],
    'Median Comments': [us_df['comment_count'].median(), in_df['comment_count'].median()]
})

engagement_metrics.set_index('Country').plot(kind='bar', figsize=(10,6), colormap='Set2')
plt.title('Median Engagment Metrices by Country')
plt.ylabel('Count')
plt.xticks(rotation = 0)
plt.grid(axis='y')
plt.tight_layout()
plt.show()





plt.figure(figsize=(14,6))

plt.subplot(1,2,1)
sns.scatterplot(data=us_df, x='views', y='likes', alpha=0.5)
plt.title("US: Views VS Likes")
plt.xscale('log')
plt.yscale('log')

plt.subplot(1,2,1)
sns.scatterplot(data=in_df, x='views', y='likes', alpha=0.5, color='green')
plt.title('India: Views vs Likes')
plt.xscale('log')
plt.yscale('log')

plt.tight_layout()
plt.show()





# Ensure both datetime columns are tz-naive
us_df['publish_time'] = pd.to_datetime(us_df['publish_time']).dt.tz_localize(None)
us_df['trending_date'] = pd.to_datetime(us_df['trending_date'])

in_df['publish_time'] = pd.to_datetime(in_df['publish_time']).dt.tz_localize(None)
in_df['trending_date'] = pd.to_datetime(in_df['trending_date'])

# Now subtract and calculate days_to_trend
us_df['days_to_trend'] = (us_df['trending_date'] - us_df['publish_time']).dt.days
in_df['days_to_trend'] = (in_df['trending_date'] - in_df['publish_time']).dt.days

# Plot
plt.figure(figsize=(10,6))
sns.histplot(us_df['days_to_trend'].dropna(), kde=True, label='US', color='blue', bins=30)
sns.histplot(in_df['days_to_trend'].dropna(), kde=True, label='India', color='orange', bins=30)
plt.title("⏱ Days Taken for a Video to Trend (Publish to Trending)")
plt.xlabel("Days to Trend")
plt.ylabel("Frequency")
plt.legend()
plt.tight_layout()
plt.show()













